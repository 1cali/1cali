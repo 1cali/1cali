{
  "nbformat": 4,
  "nbformat_minor": 0,
  "metadata": {
    "colab": {
      "provenance": [],
      "authorship_tag": "ABX9TyMWjoUjaEJ48boI9aDzM7hE",
      "include_colab_link": true
    },
    "kernelspec": {
      "name": "python3",
      "display_name": "Python 3"
    },
    "language_info": {
      "name": "python"
    }
  },
  "cells": [
    {
      "cell_type": "markdown",
      "metadata": {
        "id": "view-in-github",
        "colab_type": "text"
      },
      "source": [
        "<a href=\"https://colab.research.google.com/github/1cali/1cali/blob/main/Untitled0.ipynb\" target=\"_parent\"><img src=\"https://colab.research.google.com/assets/colab-badge.svg\" alt=\"Open In Colab\"/></a>"
      ]
    },
    {
      "cell_type": "code",
      "execution_count": 10,
      "metadata": {
        "colab": {
          "base_uri": "https://localhost:8080/"
        },
        "id": "s0P_QrfPl9Ha",
        "outputId": "408f7bad-68b0-416f-c086-4243958bb149"
      },
      "outputs": [
        {
          "output_type": "stream",
          "name": "stdout",
          "text": [
            "10\n"
          ]
        }
      ],
      "source": [
        " x = 7\n",
        " y = 3\n",
        " z = x + y\n",
        " print (z)"
      ]
    },
    {
      "cell_type": "markdown",
      "source": [],
      "metadata": {
        "id": "8yJbeG_-pvJk"
      }
    },
    {
      "cell_type": "markdown",
      "source": [],
      "metadata": {
        "id": "R45k1WPxrO09"
      }
    },
    {
      "cell_type": "markdown",
      "source": [
        "#Arithmetic operations\n",
        "Addition +\n",
        "Substraction -\n",
        "Multiplication *\n",
        "Exponentiation ** e.g $x^y$\n",
        "True division //\n",
        "Floor division //\n",
        "Remainder (modulo) %"
      ],
      "metadata": {
        "id": "wJeun7OEqB2B"
      }
    },
    {
      "cell_type": "code",
      "source": [
        "9 ** (1/2)"
      ],
      "metadata": {
        "colab": {
          "base_uri": "https://localhost:8080/"
        },
        "id": "4_G1tZ37rXVq",
        "outputId": "ea60ba97-75e3-4315-deeb-3cdef77792f4"
      },
      "execution_count": 6,
      "outputs": [
        {
          "output_type": "execute_result",
          "data": {
            "text/plain": [
              "3.0"
            ]
          },
          "metadata": {},
          "execution_count": 6
        }
      ]
    },
    {
      "cell_type": "code",
      "source": [
        " import math\n",
        " math .sqrt(9)"
      ],
      "metadata": {
        "colab": {
          "base_uri": "https://localhost:8080/"
        },
        "id": "reEHJ7zCo8s-",
        "outputId": "264919b1-973c-41b0-cbf3-f0fc0d167556"
      },
      "execution_count": 7,
      "outputs": [
        {
          "output_type": "execute_result",
          "data": {
            "text/plain": [
              "3.0"
            ]
          },
          "metadata": {},
          "execution_count": 7
        }
      ]
    },
    {
      "cell_type": "code",
      "source": [
        "# True division\n",
        "print (11/2)\n"
      ],
      "metadata": {
        "colab": {
          "base_uri": "https://localhost:8080/"
        },
        "id": "e8jum4qur6pS",
        "outputId": "dbf35d6f-1e40-425b-d541-3e85d35b7ef7"
      },
      "execution_count": 8,
      "outputs": [
        {
          "output_type": "stream",
          "name": "stdout",
          "text": [
            "5.5\n"
          ]
        }
      ]
    },
    {
      "cell_type": "code",
      "source": [],
      "metadata": {
        "id": "ll7adIN-sILk"
      },
      "execution_count": null,
      "outputs": []
    },
    {
      "cell_type": "markdown",
      "source": [],
      "metadata": {
        "id": "viBQZc9GsL2c"
      }
    },
    {
      "cell_type": "markdown",
      "source": [
        "## Exception and Tracebacks"
      ],
      "metadata": {
        "id": "WS0k-eXfs7Gh"
      }
    },
    {
      "cell_type": "code",
      "source": [
        "13 // 0"
      ],
      "metadata": {
        "colab": {
          "base_uri": "https://localhost:8080/",
          "height": 141
        },
        "id": "n1zH-RpdtQ5T",
        "outputId": "8907b822-ff64-42a2-9f91-6dea0080a5b7"
      },
      "execution_count": 11,
      "outputs": [
        {
          "output_type": "error",
          "ename": "ZeroDivisionError",
          "evalue": "integer division or modulo by zero",
          "traceback": [
            "\u001b[0;31m---------------------------------------------------------------------------\u001b[0m",
            "\u001b[0;31mZeroDivisionError\u001b[0m                         Traceback (most recent call last)",
            "\u001b[0;32m<ipython-input-11-7fc8c2a10cb7>\u001b[0m in \u001b[0;36m<cell line: 0>\u001b[0;34m()\u001b[0m\n\u001b[0;32m----> 1\u001b[0;31m \u001b[0;36m13\u001b[0m \u001b[0;34m//\u001b[0m \u001b[0;36m0\u001b[0m\u001b[0;34m\u001b[0m\u001b[0;34m\u001b[0m\u001b[0m\n\u001b[0m",
            "\u001b[0;31mZeroDivisionError\u001b[0m: integer division or modulo by zero"
          ]
        }
      ]
    },
    {
      "cell_type": "code",
      "source": [],
      "metadata": {
        "id": "sGHm19ijuDJM"
      },
      "execution_count": null,
      "outputs": []
    },
    {
      "cell_type": "markdown",
      "source": [
        "# Reminder operator"
      ],
      "metadata": {
        "id": "VeEaag3puGX-"
      }
    },
    {
      "cell_type": "code",
      "source": [
        "17 % 5"
      ],
      "metadata": {
        "colab": {
          "base_uri": "https://localhost:8080/"
        },
        "id": "W-jduZQnuKT1",
        "outputId": "3700daeb-63d7-4d75-9c0c-b729272c0f2d"
      },
      "execution_count": 12,
      "outputs": [
        {
          "output_type": "execute_result",
          "data": {
            "text/plain": [
              "2"
            ]
          },
          "metadata": {},
          "execution_count": 12
        }
      ]
    },
    {
      "cell_type": "markdown",
      "source": [
        "## Grouping Expression with parenthisis"
      ],
      "metadata": {
        "id": "IcF4P4xkuXQP"
      }
    },
    {
      "cell_type": "code",
      "source": [
        "10 * (5+3)"
      ],
      "metadata": {
        "colab": {
          "base_uri": "https://localhost:8080/"
        },
        "id": "Jd3XrFJnueLP",
        "outputId": "f7130648-de89-426c-88e7-2b8fe3985761"
      },
      "execution_count": 13,
      "outputs": [
        {
          "output_type": "execute_result",
          "data": {
            "text/plain": [
              "80"
            ]
          },
          "metadata": {},
          "execution_count": 13
        }
      ]
    },
    {
      "cell_type": "markdown",
      "source": [
        "## operator Precidence Rules\n",
        "Parenthesis\n",
        "Exponetiation\n",
        "Multiplacation, Division and Modulus\n",
        "Addition and substraction"
      ],
      "metadata": {
        "id": "7kGQG_ynu7oj"
      }
    },
    {
      "cell_type": "code",
      "source": [
        "3 * (4-5)"
      ],
      "metadata": {
        "colab": {
          "base_uri": "https://localhost:8080/"
        },
        "id": "5c7BuqE5vwY0",
        "outputId": "bc3230d0-6f03-4584-f00a-007aa0ab7b33"
      },
      "execution_count": 14,
      "outputs": [
        {
          "output_type": "execute_result",
          "data": {
            "text/plain": [
              "-3"
            ]
          },
          "metadata": {},
          "execution_count": 14
        }
      ]
    },
    {
      "cell_type": "code",
      "source": [
        "3 * 4-5"
      ],
      "metadata": {
        "colab": {
          "base_uri": "https://localhost:8080/"
        },
        "id": "ALndbLQwv7sq",
        "outputId": "c68bdd08-63a9-43e8-9ce7-ce0873e83206"
      },
      "execution_count": 15,
      "outputs": [
        {
          "output_type": "execute_result",
          "data": {
            "text/plain": [
              "7"
            ]
          },
          "metadata": {},
          "execution_count": 15
        }
      ]
    },
    {
      "cell_type": "code",
      "source": [
        "(((3**2)**3)**2)"
      ],
      "metadata": {
        "colab": {
          "base_uri": "https://localhost:8080/"
        },
        "id": "3pw9Ghv6wUKv",
        "outputId": "d2caa7b2-1c45-4204-9c4f-19cd5acc1e54"
      },
      "execution_count": 17,
      "outputs": [
        {
          "output_type": "execute_result",
          "data": {
            "text/plain": [
              "531441"
            ]
          },
          "metadata": {},
          "execution_count": 17
        }
      ]
    },
    {
      "cell_type": "markdown",
      "source": [
        "# Function'print' and an intro to single and double qouted strings"
      ],
      "metadata": {
        "id": "10ryG7YNw85_"
      }
    },
    {
      "cell_type": "code",
      "source": [
        "print ('welcome to python programmin')"
      ],
      "metadata": {
        "colab": {
          "base_uri": "https://localhost:8080/"
        },
        "id": "ps76NEzWxUkG",
        "outputId": "b991b93b-c1b7-483c-9c67-673d13e1dd10"
      },
      "execution_count": 20,
      "outputs": [
        {
          "output_type": "stream",
          "name": "stdout",
          "text": [
            "welcome to python programmin\n"
          ]
        }
      ]
    },
    {
      "cell_type": "markdown",
      "source": [
        "Printing a comma-separated list of items"
      ],
      "metadata": {
        "id": "H7YGMAf2xzYS"
      }
    },
    {
      "cell_type": "code",
      "source": [
        "print('welcome', 'to', 'python!')"
      ],
      "metadata": {
        "colab": {
          "base_uri": "https://localhost:8080/"
        },
        "id": "Lcnh_jEIyDhu",
        "outputId": "8c34042c-1601-4172-fd52-3f6e61d06e96"
      },
      "execution_count": 21,
      "outputs": [
        {
          "output_type": "stream",
          "name": "stdout",
          "text": [
            "welcome to python!\n"
          ]
        }
      ]
    },
    {
      "cell_type": "markdown",
      "source": [
        "## printing many lines of text with one statement\n",
        "use backslash (\\\\) --- Escape character\n",
        "'\\n' --- newline character\n",
        "'\\t'--- new tab\n"
      ],
      "metadata": {
        "id": "3KBL5pHqyXBz"
      }
    },
    {
      "cell_type": "code",
      "source": [
        "print ('welcome \\nto \\python!')\n",
        "print('weta said,\\\"python is great\\\"')"
      ],
      "metadata": {
        "colab": {
          "base_uri": "https://localhost:8080/"
        },
        "id": "cwkVEyBjzdxe",
        "outputId": "668e8b77-c1f7-4b59-e0a6-1a06883dcbc8"
      },
      "execution_count": 22,
      "outputs": [
        {
          "output_type": "stream",
          "name": "stdout",
          "text": [
            "welcome \n",
            "to \\python!\n",
            "weta said,\"python is great\"\n"
          ]
        }
      ]
    },
    {
      "cell_type": "code",
      "source": [
        "name = input(\"what is your name ?\")"
      ],
      "metadata": {
        "colab": {
          "base_uri": "https://localhost:8080/"
        },
        "id": "Zx0HIwUH0Ez_",
        "outputId": "75a4add0-1019-4600-d6fa-72cebd47a05d"
      },
      "execution_count": 23,
      "outputs": [
        {
          "name": "stdout",
          "output_type": "stream",
          "text": [
            "what is your name ?Caleb\n"
          ]
        }
      ]
    },
    {
      "cell_type": "code",
      "source": [
        "name"
      ],
      "metadata": {
        "colab": {
          "base_uri": "https://localhost:8080/",
          "height": 36
        },
        "id": "iLjh4N650eb3",
        "outputId": "61a3eee9-0ab1-48c3-b038-90c59d8f32db"
      },
      "execution_count": 24,
      "outputs": [
        {
          "output_type": "execute_result",
          "data": {
            "text/plain": [
              "'Caleb'"
            ],
            "application/vnd.google.colaboratory.intrinsic+json": {
              "type": "string"
            }
          },
          "metadata": {},
          "execution_count": 24
        }
      ]
    },
    {
      "cell_type": "code",
      "source": [
        "print(name)"
      ],
      "metadata": {
        "colab": {
          "base_uri": "https://localhost:8080/"
        },
        "id": "Wo3fH-y60xus",
        "outputId": "9e6e97b3-5e35-48ac-bca3-efcf7289b81c"
      },
      "execution_count": 25,
      "outputs": [
        {
          "output_type": "stream",
          "name": "stdout",
          "text": [
            "Caleb\n"
          ]
        }
      ]
    },
    {
      "cell_type": "code",
      "source": [
        "height1 = int(input(\"Enter height for user1\"))\n",
        "height2= int(input(\"Enter height for user2\"))\n",
        "height3= int(input(\"Enter height for user3\"))\n",
        "Average = (height1 + height2 + height3)//3\n",
        "print(Average)"
      ],
      "metadata": {
        "colab": {
          "base_uri": "https://localhost:8080/"
        },
        "id": "uUM4PLMS1PRJ",
        "outputId": "f8474867-a1af-444f-d3f7-f1ec3899a3fa"
      },
      "execution_count": 33,
      "outputs": [
        {
          "output_type": "stream",
          "name": "stdout",
          "text": [
            "Enter height for user1120\n",
            "Enter height for user2140\n",
            "Enter height for user3100\n",
            "120\n"
          ]
        }
      ]
    }
  ]
}